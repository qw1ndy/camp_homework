{
 "cells": [
  {
   "cell_type": "code",
   "execution_count": 338,
   "id": "df899192",
   "metadata": {},
   "outputs": [],
   "source": [
    "import pandas as pd\n",
    "import numpy as np\n",
    "import matplotlib.pyplot as plt"
   ]
  },
  {
   "cell_type": "code",
   "execution_count": 339,
   "id": "a8843efd",
   "metadata": {},
   "outputs": [],
   "source": [
    "import os\n",
    "cwd= os.getcwd() \n",
    "path = os.path.join(cwd,'data') \n"
   ]
  },
  {
   "cell_type": "code",
   "execution_count": 340,
   "id": "ce3761af",
   "metadata": {},
   "outputs": [],
   "source": [
    "X_train = pd.read_csv(os.path.join(cwd, 'data/train.csv'))\n",
    "y_train = pd.read_csv(os.path.join(cwd, 'data/train.csv')).Survived\n",
    "\n",
    "X_train = X_train[['Pclass','Sex','Age', 'Embarked']]\n",
    "\n",
    "X_test = pd.read_csv(os.path.join(cwd, 'data/test.csv'))\n",
    "y_test = pd.read_csv(os.path.join(cwd, 'data/gender_submission.csv')).Survived\n",
    "\n",
    "X_test = X_test[['Pclass','Sex','Age', 'Embarked']]\n"
   ]
  },
  {
   "cell_type": "code",
   "execution_count": 341,
   "id": "05aac4be",
   "metadata": {},
   "outputs": [],
   "source": [
    "X_train['Age'] = X_train['Age'].fillna(X_train['Age'].median(numeric_only=True))\n",
    "X_test['Age'] = X_test['Age'].fillna(X_test['Age'].median(numeric_only=True))\n",
    "\n",
    "X_train['Embarked'] = X_train['Embarked'].fillna(X_train['Embarked'].mode())\n",
    "X_test['Embarked'] = X_test['Embarked'].fillna(X_test['Embarked'].mode())"
   ]
  },
  {
   "cell_type": "code",
   "execution_count": 342,
   "id": "0c2c24f6",
   "metadata": {},
   "outputs": [
    {
     "name": "stdout",
     "output_type": "stream",
     "text": [
      "X_train.shape=  (891, 4)\n",
      "X_test.shape=  (418, 4)\n",
      "y_train.shape=  (418,)\n",
      "y_test.shape=  (418,)\n"
     ]
    }
   ],
   "source": [
    "print ('X_train.shape= ',X_train.shape)\n",
    "print ('X_test.shape= ',X_test.shape)\n",
    "print ('y_train.shape= ',y_test.shape)\n",
    "print ('y_test.shape= ',y_test.shape)"
   ]
  },
  {
   "cell_type": "code",
   "execution_count": 343,
   "id": "2c5a1aed",
   "metadata": {},
   "outputs": [],
   "source": [
    "from sklearn.preprocessing import LabelEncoder\n",
    "\n",
    "le = LabelEncoder()\n",
    "\n",
    "columns_to_encode = [\"Sex\", \"Embarked\"]\n",
    "\n",
    "def label_encoder(X_train,X_test):    \n",
    "    X_train = X_train.copy() \n",
    "    X_test = X_test.copy()\n",
    "\n",
    "    for col in columns_to_encode:\n",
    "        le = LabelEncoder().fit(X_train[col].astype(str)) \n",
    "        X_train[col] = le.transform(X_train[col].astype(str))\n",
    "        X_test[col] = le.transform(X_test[col].astype(str))\n",
    "    return X_train,X_test\n",
    "\n",
    "X_train,X_test= label_encoder(X_train,X_test)\n"
   ]
  },
  {
   "cell_type": "code",
   "execution_count": 344,
   "id": "1dd21f25",
   "metadata": {},
   "outputs": [],
   "source": [
    "from sklearn.model_selection import GridSearchCV\n",
    "\n",
    "def run_GridSearchCV(clf,grid_values, X_train, y_train):\n",
    "    grid_clf = GridSearchCV(clf, param_grid=grid_values,scoring='f1')\n",
    "    grid_clf.fit(X_train, y_train)\n",
    "    print('Grid best parameter (max f1 ): ', grid_clf.best_params_) \n",
    "    print('Grid best score (f1): ', grid_clf.best_score_)\n",
    "    return grid_clf.best_params_"
   ]
  },
  {
   "cell_type": "code",
   "execution_count": 345,
   "id": "fa24b1d9",
   "metadata": {},
   "outputs": [
    {
     "name": "stdout",
     "output_type": "stream",
     "text": [
      "Grid best parameter (max f1 ):  {'C': 0.1}\n",
      "Grid best score (f1):  0.7158766126230727\n",
      "train accuracy= 80.247%\n",
      "test accuracy= 90.431%\n"
     ]
    }
   ],
   "source": [
    "from sklearn.linear_model import LogisticRegression\n",
    "\n",
    "log_reg = LogisticRegression()\n",
    "\n",
    "best_params_log_reg = run_GridSearchCV(log_reg, {'C': [0.005, 0.01,0.1, 1, 100, 10000]}, X_train, y_train)\n",
    "\n",
    "log_reg.set_params(**best_params_log_reg)\n",
    "\n",
    "log_reg.fit(X_train, y_train)\n",
    "\n",
    "print(\"train accuracy= {:.3%}\".format(log_reg.score(X_train, y_train)))\n",
    "print(\"test accuracy= {:.3%}\".format(log_reg.score(X_test, y_test)))"
   ]
  },
  {
   "cell_type": "code",
   "execution_count": 346,
   "id": "738960e3",
   "metadata": {},
   "outputs": [
    {
     "name": "stdout",
     "output_type": "stream",
     "text": [
      "Grid best parameter (max f1 ):  {'criterion': 'entropy', 'max_depth': 5}\n",
      "Grid best score (f1):  0.725191240437978\n",
      "train accuracy= 83.838%\n",
      "test accuracy= 88.278%\n"
     ]
    }
   ],
   "source": [
    "from sklearn.tree import DecisionTreeClassifier\n",
    "\n",
    "des_tree = DecisionTreeClassifier()\n",
    "\n",
    "best_params_des_tree = run_GridSearchCV(des_tree, {'max_depth': [2,5,7, 20, 50], 'criterion':['gini', 'entropy', 'log_loss']}, X_train, y_train)\n",
    "\n",
    "des_tree.set_params(**best_params_des_tree)\n",
    "\n",
    "des_tree.fit(X_train, y_train)\n",
    "\n",
    "print(\"train accuracy= {:.3%}\".format(des_tree.score(X_train, y_train)))\n",
    "print(\"test accuracy= {:.3%}\".format(des_tree.score(X_test, y_test)))"
   ]
  },
  {
   "cell_type": "code",
   "execution_count": 347,
   "id": "92725d61",
   "metadata": {},
   "outputs": [
    {
     "name": "stdout",
     "output_type": "stream",
     "text": [
      "Grid best parameter (max f1 ):  {'criterion': 'entropy', 'n_estimators': 300}\n",
      "Grid best score (f1):  0.7345004894601437\n",
      "train accuracy= 90.011%\n",
      "test accuracy= 79.665%\n"
     ]
    }
   ],
   "source": [
    "from sklearn.ensemble import RandomForestClassifier\n",
    "\n",
    "rand_forest = RandomForestClassifier()\n",
    "\n",
    "best_params_rand_forest = run_GridSearchCV(rand_forest, {'n_estimators': [20,50,200,300], 'criterion':['gini', 'entropy', 'log_loss']}, X_train, y_train)\n",
    "\n",
    "rand_forest.set_params(**best_params_rand_forest)\n",
    "\n",
    "rand_forest.fit(X_train, y_train)\n",
    "\n",
    "print(\"train accuracy= {:.3%}\".format(rand_forest.score(X_train, y_train)))\n",
    "print(\"test accuracy= {:.3%}\".format(rand_forest.score(X_test, y_test)))"
   ]
  },
  {
   "cell_type": "code",
   "execution_count": 348,
   "id": "7e0aa280",
   "metadata": {},
   "outputs": [
    {
     "name": "stdout",
     "output_type": "stream",
     "text": [
      "train accuracy= 88.889%\n",
      "test accuracy= 77.751%\n"
     ]
    }
   ],
   "source": [
    "from xgboost import XGBClassifier\n",
    "\n",
    "xgboost_clf = XGBClassifier()\n",
    "\n",
    "xgboost_clf.fit(X_train,y_train)\n",
    "\n",
    "print(\"train accuracy= {:.3%}\".format(xgboost_clf.score(X_train, y_train)))\n",
    "print(\"test accuracy= {:.3%}\".format(xgboost_clf.score(X_test, y_test)))"
   ]
  }
 ],
 "metadata": {
  "kernelspec": {
   "display_name": "Python 3",
   "language": "python",
   "name": "python3"
  },
  "language_info": {
   "codemirror_mode": {
    "name": "ipython",
    "version": 3
   },
   "file_extension": ".py",
   "mimetype": "text/x-python",
   "name": "python",
   "nbconvert_exporter": "python",
   "pygments_lexer": "ipython3",
   "version": "3.13.1"
  }
 },
 "nbformat": 4,
 "nbformat_minor": 5
}
