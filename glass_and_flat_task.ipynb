{
 "cells": [
  {
   "cell_type": "code",
   "execution_count": 171,
   "id": "d2fd17f7",
   "metadata": {},
   "outputs": [],
   "source": [
    "import numpy as np\n",
    "\n",
    "rand_flat = np.random.randint(0, 101)"
   ]
  },
  {
   "cell_type": "markdown",
   "id": "bfc639e6",
   "metadata": {},
   "source": [
    "The minimal count of tries for task 2 glasses and 100 floors is 14, that`s why:<br>\n",
    "To find the minimal count of tries we need to make some operations:<br>\n",
    "1. If we drop our first glass from floor x (10 in our 10 floor strategy), the linear portion of our strategy is x-1 (9 in the above strategy). Our drop count is:<br>\n",
    "x + (x - 1)<br>\n",
    "\n",
    "2. If the glass doesn’t break on the first drop our drop count increases by one, so we’ll need to remove a drop from our floor by floor drop count — the next drop should be from x-1 floors up. Every additional floor jump will need to have one less floor, so that when we get to the linear portion of the solution we’ll have one less floor to check. We continue removing one floor until we only have 1 floor to check:<br>\n",
    "x + (x-1) + (x-2) + (x-3) + ... + 1 <br>\n",
    "Simplified:<br>\n",
    "x(x + 1)/2<br>\n",
    "\n",
    "3. Because there are 100 floors in our problem, we solve for x when the entire summation is equal to 100:<br>\n",
    "x(x + 1)/2 = 100<br>\n",
    "after solving we have \n",
    "got a two roots - x=13.65097,x=-14.65097, but the root can not be negative, so there is an answer:<br>\n",
    "x = 13.651<br>\n",
    "after rounding, because attempts can not be float, we get 14.<br>\n",
    "\n",
    "So to make an algorithm of finding floor on which glass breaks, we should drop our glass from 14 floor, if does not break, we add x+(x-1) = 14 + (14 - 1) = 14 + 13 = 27, and so on. However, if the glass breaks on 14 floor, we have to start dropping glass from the first floor, and until it`s breaks.<br>\n",
    "So, for a task of 2 glasses and 10 floors, we just from our minimal subtract the result of dividing the floors - 14 - 100/10 = 4, and use the same algorithm<br> \n"
   ]
  },
  {
   "cell_type": "code",
   "execution_count": 172,
   "id": "0ca8a1d3",
   "metadata": {},
   "outputs": [
    {
     "name": "stdout",
     "output_type": "stream",
     "text": [
      "Total attempts: 12\n",
      "Goal flat: 47\n",
      "47\n"
     ]
    }
   ],
   "source": [
    "def glass_break(attempt_flat, flat_break):\n",
    "    return attempt_flat >= flat_break\n",
    "\n",
    "def glass_loop_breaks_check(start, end, flat_num_break):\n",
    "    for i in range(start, end):\n",
    "        if i == flat_num_break:\n",
    "            return i, i - start + 1\n",
    "    return end, end - start \n",
    "\n",
    "def two_and_hundred(flat_num_breaks):\n",
    "    total_attempts = 0\n",
    "    step = 14\n",
    "    current = step\n",
    "    previous = 0\n",
    "\n",
    "    while current <= 100:\n",
    "        total_attempts += 1\n",
    "        if glass_break(current, flat_num_breaks):\n",
    "            goal_flat, linear_attempts = glass_loop_breaks_check(previous + 1, current, flat_num_breaks)\n",
    "            total_attempts += linear_attempts\n",
    "            break\n",
    "        previous = current\n",
    "        step -= 1\n",
    "        current += step\n",
    "\n",
    "    else:\n",
    "        goal_flat, linear_attempts = glass_loop_breaks_check(previous + 1, 100, flat_num_breaks)\n",
    "        total_attempts += linear_attempts \n",
    "\n",
    "    print(\"Total attempts:\", total_attempts)\n",
    "    print(\"Goal flat:\", goal_flat)\n",
    "    return total_attempts, goal_flat\n",
    "\n",
    "two_and_hundred(rand_flat)\n",
    "\n",
    "print(rand_flat)\n"
   ]
  }
 ],
 "metadata": {
  "kernelspec": {
   "display_name": "Python 3",
   "language": "python",
   "name": "python3"
  },
  "language_info": {
   "codemirror_mode": {
    "name": "ipython",
    "version": 3
   },
   "file_extension": ".py",
   "mimetype": "text/x-python",
   "name": "python",
   "nbconvert_exporter": "python",
   "pygments_lexer": "ipython3",
   "version": "3.13.1"
  }
 },
 "nbformat": 4,
 "nbformat_minor": 5
}
